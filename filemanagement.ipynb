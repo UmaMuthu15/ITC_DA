{
 "cells": [
  {
   "cell_type": "markdown",
   "metadata": {},
   "source": [
    "# GET CURRENT WORKING DIRECTORY\n",
    "get current working directory--getcwd()\n",
    "get current working directory in binary format--getcwdb()"
   ]
  },
  {
   "cell_type": "code",
   "execution_count": 2,
   "metadata": {},
   "outputs": [
    {
     "name": "stdout",
     "output_type": "stream",
     "text": [
      "current working directory is: c:\\Users\\UMA\\Desktop\\ict\n"
     ]
    }
   ],
   "source": [
    "import os\n",
    "print(\"current working directory is:\",os.getcwd())"
   ]
  },
  {
   "cell_type": "code",
   "execution_count": 3,
   "metadata": {},
   "outputs": [
    {
     "name": "stdout",
     "output_type": "stream",
     "text": [
      "current working directory in binary format: b'c:\\\\Users\\\\UMA\\\\Desktop\\\\ict'\n"
     ]
    }
   ],
   "source": [
    "print(\"current working directory in binary format:\",os.getcwdb())"
   ]
  },
  {
   "cell_type": "markdown",
   "metadata": {},
   "source": [
    "# FILES IN CWD\n"
   ]
  },
  {
   "cell_type": "code",
   "execution_count": 7,
   "metadata": {},
   "outputs": [
    {
     "name": "stdout",
     "output_type": "stream",
     "text": [
      "the files in current working directory are: ['example.ipynb', 'filemanagement.ipynb', 'set.ipynb', 'venv']\n"
     ]
    }
   ],
   "source": [
    "print(\"the files in current working directory are:\",os.listdir(os.getcwd()))\n"
   ]
  },
  {
   "cell_type": "markdown",
   "metadata": {},
   "source": [
    "# CHANGING DIRECTORY"
   ]
  },
  {
   "cell_type": "code",
   "execution_count": 9,
   "metadata": {},
   "outputs": [
    {
     "name": "stdout",
     "output_type": "stream",
     "text": [
      "current initial directory id: c:\\Users\\UMA\\Desktop\\ict\n",
      "current working directory is c:\\Users\\UMA\\Desktop\\ict\n"
     ]
    }
   ],
   "source": [
    "import os \n",
    "# printing initial directory\n",
    "print(\"current initial directory id:\",os.getcwd())\n",
    "os.chdir(\"c:/Users/UMA/Desktop/ict\")\n",
    "print(\"current working directory is\",os.getcwd())"
   ]
  },
  {
   "cell_type": "markdown",
   "metadata": {},
   "source": [
    "#CREATING DIRECTORY"
   ]
  },
  {
   "cell_type": "code",
   "execution_count": 24,
   "metadata": {},
   "outputs": [],
   "source": [
    "Dir_name = \"Welcome\"\n",
    "path = \"c:/Users/UMA/Desktop/ICT\""
   ]
  },
  {
   "cell_type": "code",
   "execution_count": 25,
   "metadata": {},
   "outputs": [],
   "source": [
    "new_path = os.path.join(path,Dir_name)\n",
    "os.mkdir(new_path)"
   ]
  },
  {
   "cell_type": "code",
   "execution_count": 27,
   "metadata": {},
   "outputs": [
    {
     "name": "stdout",
     "output_type": "stream",
     "text": [
      "None\n"
     ]
    }
   ],
   "source": [
    "print(os.chdir(\"c:/Users/UMA/Desktop/ICT/\"))"
   ]
  },
  {
   "cell_type": "code",
   "execution_count": null,
   "metadata": {},
   "outputs": [],
   "source": []
  }
 ],
 "metadata": {
  "kernelspec": {
   "display_name": "venv",
   "language": "python",
   "name": "python3"
  },
  "language_info": {
   "codemirror_mode": {
    "name": "ipython",
    "version": 3
   },
   "file_extension": ".py",
   "mimetype": "text/x-python",
   "name": "python",
   "nbconvert_exporter": "python",
   "pygments_lexer": "ipython3",
   "version": "3.11.4"
  }
 },
 "nbformat": 4,
 "nbformat_minor": 2
}
