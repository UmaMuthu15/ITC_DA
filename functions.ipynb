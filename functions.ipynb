{
 "cells": [
  {
   "cell_type": "markdown",
   "metadata": {},
   "source": [
    "**def function_name(parameters):**"
   ]
  },
  {
   "cell_type": "code",
   "execution_count": 4,
   "metadata": {},
   "outputs": [
    {
     "name": "stdout",
     "output_type": "stream",
     "text": [
      "umamuthu\n",
      "umamuthu\n"
     ]
    }
   ],
   "source": [
    "def saranathan():\n",
    "    first=\"uma\"\n",
    "    second=\"muthu\"\n",
    "    print(first+second)\n"
   ]
  },
  {
   "cell_type": "code",
   "execution_count": 5,
   "metadata": {},
   "outputs": [
    {
     "name": "stdout",
     "output_type": "stream",
     "text": [
      "umamuthu\n",
      "umamuthu\n"
     ]
    }
   ],
   "source": [
    "saranathan()\n",
    "saranathan()"
   ]
  },
  {
   "cell_type": "markdown",
   "metadata": {},
   "source": [
    "# function with arguments "
   ]
  },
  {
   "cell_type": "code",
   "execution_count": 13,
   "metadata": {},
   "outputs": [],
   "source": [
    "def func(num):\n",
    "    print(\"welcome to my home\",num)\n",
    "\n"
   ]
  },
  {
   "cell_type": "code",
   "execution_count": 10,
   "metadata": {},
   "outputs": [
    {
     "name": "stdout",
     "output_type": "stream",
     "text": [
      "welcome to my home swetha\n"
     ]
    }
   ],
   "source": [
    "func(\"swetha\")"
   ]
  },
  {
   "cell_type": "code",
   "execution_count": 11,
   "metadata": {},
   "outputs": [
    {
     "name": "stdout",
     "output_type": "stream",
     "text": [
      "welcome to my home uma\n",
      "welcome to my home swetha\n"
     ]
    }
   ],
   "source": [
    "func(\"uma\")\n",
    "func(\"swetha\")"
   ]
  },
  {
   "cell_type": "markdown",
   "metadata": {},
   "source": [
    "# Function with default arguments"
   ]
  },
  {
   "cell_type": "code",
   "execution_count": 21,
   "metadata": {},
   "outputs": [],
   "source": [
    "\n",
    "def func(num=\"saranathan\"):\n",
    "    print(\"welcome to my home\",num)"
   ]
  },
  {
   "cell_type": "code",
   "execution_count": 17,
   "metadata": {},
   "outputs": [
    {
     "name": "stdout",
     "output_type": "stream",
     "text": [
      "welcome to my home saranatahan\n"
     ]
    }
   ],
   "source": [
    "func(num)"
   ]
  },
  {
   "cell_type": "code",
   "execution_count": 22,
   "metadata": {},
   "outputs": [
    {
     "name": "stdout",
     "output_type": "stream",
     "text": [
      "welcome to my home saranathan\n"
     ]
    }
   ],
   "source": [
    "func()"
   ]
  },
  {
   "cell_type": "code",
   "execution_count": 24,
   "metadata": {},
   "outputs": [
    {
     "name": "stdout",
     "output_type": "stream",
     "text": [
      "welcome to my home uma\n"
     ]
    }
   ],
   "source": [
    "func(\"uma\")"
   ]
  },
  {
   "cell_type": "code",
   "execution_count": 29,
   "metadata": {},
   "outputs": [],
   "source": [
    "def func(name=\"saranathan\",dept=\"IT\"):\n",
    "    print(\"welcome to my home\",name,dept)"
   ]
  },
  {
   "cell_type": "code",
   "execution_count": 30,
   "metadata": {},
   "outputs": [
    {
     "name": "stdout",
     "output_type": "stream",
     "text": [
      "welcome to my home saranathan IT\n"
     ]
    }
   ],
   "source": [
    "func()"
   ]
  },
  {
   "cell_type": "markdown",
   "metadata": {},
   "source": [
    "# Function with keywords"
   ]
  },
  {
   "cell_type": "code",
   "execution_count": 37,
   "metadata": {},
   "outputs": [
    {
     "name": "stdout",
     "output_type": "stream",
     "text": [
      "welcome to my home UMA IT\n"
     ]
    }
   ],
   "source": [
    "func(name=\"UMA\",dept=\"IT\")"
   ]
  },
  {
   "cell_type": "code",
   "execution_count": 32,
   "metadata": {},
   "outputs": [
    {
     "name": "stdout",
     "output_type": "stream",
     "text": [
      "welcome to my home uma IT\n"
     ]
    }
   ],
   "source": [
    "func(dept=\"IT\",name=\"uma\")"
   ]
  },
  {
   "cell_type": "markdown",
   "metadata": {},
   "source": [
    "# variable with arguments"
   ]
  },
  {
   "cell_type": "code",
   "execution_count": 38,
   "metadata": {},
   "outputs": [
    {
     "name": "stdout",
     "output_type": "stream",
     "text": [
      "hi\n",
      "hello\n"
     ]
    }
   ],
   "source": [
    "def myfunc(*args):\n",
    "    for arg in args:\n",
    "        print(arg)\n",
    "myfunc('hi','hello')"
   ]
  },
  {
   "cell_type": "markdown",
   "metadata": {},
   "source": [
    "# Variable length keyword argument"
   ]
  },
  {
   "cell_type": "code",
   "execution_count": 40,
   "metadata": {},
   "outputs": [
    {
     "name": "stdout",
     "output_type": "stream",
     "text": [
      "first == hello\n",
      "mid == uma\n"
     ]
    }
   ],
   "source": [
    "def myFunc(**kwargs):\n",
    "    for key,value in kwargs.items():\n",
    "        print(\"%s == %s\"%(key,value))\n",
    "myFunc(first='hello',mid='uma')"
   ]
  },
  {
   "cell_type": "markdown",
   "metadata": {},
   "source": [
    "# call by reference-value can be changed-mutable"
   ]
  },
  {
   "cell_type": "code",
   "execution_count": 42,
   "metadata": {},
   "outputs": [],
   "source": [
    "def add_more(mylist):\n",
    "    mylist.append(50)\n",
    "    print(\"Inside Function:\",mylist)\n",
    "\n"
   ]
  },
  {
   "cell_type": "code",
   "execution_count": 44,
   "metadata": {},
   "outputs": [
    {
     "name": "stdout",
     "output_type": "stream",
     "text": [
      "Inside Function: [10, 20, 30, 40, 50]\n",
      "outside function: [10, 20, 30, 40, 50]\n"
     ]
    }
   ],
   "source": [
    "mylist=[10,20,30,40]\n",
    "add_more(mylist)\n",
    "print(\"outside function:\",mylist)"
   ]
  },
  {
   "cell_type": "markdown",
   "metadata": {},
   "source": [
    "# overloading"
   ]
  },
  {
   "cell_type": "code",
   "execution_count": 50,
   "metadata": {},
   "outputs": [],
   "source": [
    "class Complex_1:\n",
    "    def __init__(self,X,Y):\n",
    "        self.X=X\n",
    "        self.Y=Y\n",
    "    def __add__(self, U):\n",
    "        return Complex_1(self.X + U.X, self.Y + U.Y)\n",
    "    def __str__(self):\n",
    "        return f\"({self.X},{self.Y})\"\n",
    "        "
   ]
  },
  {
   "cell_type": "code",
   "execution_count": 51,
   "metadata": {},
   "outputs": [
    {
     "name": "stdout",
     "output_type": "stream",
     "text": [
      "(44,34)\n"
     ]
    }
   ],
   "source": [
    "Object_1=Complex_1(23,12)\n",
    "Object_2=Complex_1(21,22)\n",
    "Object_3=Object_1 + Object_2\n",
    "print(Object_3)"
   ]
  },
  {
   "cell_type": "code",
   "execution_count": 59,
   "metadata": {},
   "outputs": [],
   "source": [
    "class Example:\n",
    "    def __init__(self,a):\n",
    "        self.a = a\n",
    "        #print(self.a)\n",
    "        \n",
    "    def __gt__(self,other):\n",
    "        #print(other.a)\n",
    "        return self.a > other.a\n",
    "    \n"
   ]
  },
  {
   "cell_type": "code",
   "execution_count": 60,
   "metadata": {},
   "outputs": [
    {
     "name": "stdout",
     "output_type": "stream",
     "text": [
      "True\n"
     ]
    }
   ],
   "source": [
    "obj1 = Example(1)\n",
    "obj2 = Example(2)\n",
    "print(obj2 > obj1)"
   ]
  },
  {
   "cell_type": "code",
   "execution_count": 66,
   "metadata": {},
   "outputs": [],
   "source": [
    "#default value\n",
    "def umaa(name=\"uma\"):\n",
    "    print(name)\n"
   ]
  },
  {
   "cell_type": "code",
   "execution_count": 63,
   "metadata": {},
   "outputs": [
    {
     "name": "stdout",
     "output_type": "stream",
     "text": [
      "uma\n"
     ]
    }
   ],
   "source": [
    "umaa()"
   ]
  },
  {
   "cell_type": "markdown",
   "metadata": {},
   "source": [
    "# Classes with constructor"
   ]
  },
  {
   "cell_type": "code",
   "execution_count": 87,
   "metadata": {},
   "outputs": [
    {
     "name": "stdout",
     "output_type": "stream",
     "text": [
      "uma\n",
      "21\n"
     ]
    }
   ],
   "source": [
    "class Person:\n",
    "    def __init__(self,name,age):\n",
    "        self.name = name\n",
    "        self.age = age\n",
    "    def __str__(self):\n",
    "                return self.name\n",
    "\n",
    "              \n",
    "p1 =  Person(\"uma\",21)\n",
    "print(p1)\n",
    "print(p1.age)\n",
    "        "
   ]
  }
 ],
 "metadata": {
  "kernelspec": {
   "display_name": "venv",
   "language": "python",
   "name": "python3"
  },
  "language_info": {
   "codemirror_mode": {
    "name": "ipython",
    "version": 3
   },
   "file_extension": ".py",
   "mimetype": "text/x-python",
   "name": "python",
   "nbconvert_exporter": "python",
   "pygments_lexer": "ipython3",
   "version": "3.11.4"
  }
 },
 "nbformat": 4,
 "nbformat_minor": 2
}
