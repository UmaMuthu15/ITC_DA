{
 "cells": [
  {
   "cell_type": "markdown",
   "metadata": {},
   "source": [
    "# local scope"
   ]
  },
  {
   "cell_type": "code",
   "execution_count": 7,
   "metadata": {},
   "outputs": [
    {
     "name": "stdout",
     "output_type": "stream",
     "text": [
      "the number is: 1\n"
     ]
    }
   ],
   "source": [
    "num=0\n",
    "def demo():\n",
    "    num=1\n",
    "    print(\"the number is:\",num)\n",
    "demo()"
   ]
  },
  {
   "cell_type": "markdown",
   "metadata": {},
   "source": [
    "# GlobalScope\n"
   ]
  },
  {
   "cell_type": "code",
   "execution_count": 11,
   "metadata": {},
   "outputs": [
    {
     "name": "stdout",
     "output_type": "stream",
     "text": [
      "you are clear\n"
     ]
    }
   ],
   "source": [
    "def demo():\n",
    " print(Str)\n",
    "Str=\"you are clear\"\n",
    "demo()"
   ]
  },
  {
   "cell_type": "markdown",
   "metadata": {},
   "source": [
    "# Non-Local Scope(nested function)"
   ]
  },
  {
   "cell_type": "code",
   "execution_count": 4,
   "metadata": {},
   "outputs": [
    {
     "name": "stdout",
     "output_type": "stream",
     "text": [
      "inner: nonlocal\n",
      "outer: local\n"
     ]
    }
   ],
   "source": [
    "def func_outer():\n",
    "    x=\"local\"\n",
    "    def func_inner():\n",
    "        #nonlocal x\n",
    "        x= \"nonlocal\"\n",
    "        print(\"inner:\",x)\n",
    "    func_inner()\n",
    "    print(\"outer:\",x)\n",
    "func_outer()"
   ]
  },
  {
   "cell_type": "code",
   "execution_count": 10,
   "metadata": {},
   "outputs": [
    {
     "name": "stdout",
     "output_type": "stream",
     "text": [
      "roll num: 46\n"
     ]
    }
   ],
   "source": [
    "#changing global variable inside the function will return the error\n",
    "stud_name = 'uma'\n",
    "roll_num=44\n",
    "#roll_num=roll_num+2\n",
    "def display():\n",
    "    global roll_num\n",
    "    roll_num=roll_num+2\n",
    "    print(\"roll num:\",roll_num)\n",
    "display()"
   ]
  },
  {
   "cell_type": "markdown",
   "metadata": {},
   "source": [
    "Function calling another function is called **decorators**"
   ]
  },
  {
   "cell_type": "code",
   "execution_count": 12,
   "metadata": {},
   "outputs": [
    {
     "name": "stdout",
     "output_type": "stream",
     "text": [
      "10\n",
      "20\n",
      "30\n"
     ]
    }
   ],
   "source": [
    "global_var=10\n",
    "def outer_function():\n",
    "    outer_var=20\n",
    "    def inner_function():\n",
    "        inner_var=30\n",
    "        print(inner_var)\n",
    "    print(outer_var)\n",
    "    inner_function()\n",
    "print(global_var)\n",
    "outer_function()\n",
    "    "
   ]
  },
  {
   "cell_type": "code",
   "execution_count": null,
   "metadata": {},
   "outputs": [],
   "source": []
  }
 ],
 "metadata": {
  "kernelspec": {
   "display_name": "venv",
   "language": "python",
   "name": "python3"
  },
  "language_info": {
   "codemirror_mode": {
    "name": "ipython",
    "version": 3
   },
   "file_extension": ".py",
   "mimetype": "text/x-python",
   "name": "python",
   "nbconvert_exporter": "python",
   "pygments_lexer": "ipython3",
   "version": "3.11.4"
  }
 },
 "nbformat": 4,
 "nbformat_minor": 2
}
